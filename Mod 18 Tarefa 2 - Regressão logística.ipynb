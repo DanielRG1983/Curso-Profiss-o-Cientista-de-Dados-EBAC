{
 "cells": [
  {
   "cell_type": "markdown",
   "metadata": {},
   "source": [
    "# Regressão Logística I\n",
    "## Tarefa II\n",
    "\n",
    "Vamos trabalhar com a mesma base do exercício anterior, mas vamos aprofundar um pouco mais a nossa regressão."
   ]
  },
  {
   "cell_type": "code",
   "execution_count": 22,
   "metadata": {},
   "outputs": [],
   "source": [
    "import pandas as pd\n",
    "import seaborn as sns\n",
    "import matplotlib.pyplot as plt\n",
    "import numpy as np\n",
    "\n",
    "import statsmodels.formula.api as smf"
   ]
  },
  {
   "cell_type": "code",
   "execution_count": 23,
   "metadata": {
    "tags": []
   },
   "outputs": [
    {
     "data": {
      "text/html": [
       "<div>\n",
       "<style scoped>\n",
       "    .dataframe tbody tr th:only-of-type {\n",
       "        vertical-align: middle;\n",
       "    }\n",
       "\n",
       "    .dataframe tbody tr th {\n",
       "        vertical-align: top;\n",
       "    }\n",
       "\n",
       "    .dataframe thead th {\n",
       "        text-align: right;\n",
       "    }\n",
       "</style>\n",
       "<table border=\"1\" class=\"dataframe\">\n",
       "  <thead>\n",
       "    <tr style=\"text-align: right;\">\n",
       "      <th></th>\n",
       "      <th>age</th>\n",
       "      <th>sex</th>\n",
       "      <th>cp</th>\n",
       "      <th>trestbps</th>\n",
       "      <th>chol</th>\n",
       "      <th>fbs</th>\n",
       "      <th>restecg</th>\n",
       "      <th>thalach</th>\n",
       "      <th>exang</th>\n",
       "      <th>oldpeak</th>\n",
       "      <th>slope</th>\n",
       "      <th>ca</th>\n",
       "      <th>thal</th>\n",
       "      <th>num</th>\n",
       "      <th>flag_doente</th>\n",
       "    </tr>\n",
       "  </thead>\n",
       "  <tbody>\n",
       "    <tr>\n",
       "      <th>0</th>\n",
       "      <td>63.0</td>\n",
       "      <td>1.0</td>\n",
       "      <td>1.0</td>\n",
       "      <td>145.0</td>\n",
       "      <td>233.0</td>\n",
       "      <td>1.0</td>\n",
       "      <td>2.0</td>\n",
       "      <td>150.0</td>\n",
       "      <td>0.0</td>\n",
       "      <td>2.3</td>\n",
       "      <td>3.0</td>\n",
       "      <td>0.0</td>\n",
       "      <td>6.0</td>\n",
       "      <td>0</td>\n",
       "      <td>0</td>\n",
       "    </tr>\n",
       "    <tr>\n",
       "      <th>1</th>\n",
       "      <td>67.0</td>\n",
       "      <td>1.0</td>\n",
       "      <td>4.0</td>\n",
       "      <td>160.0</td>\n",
       "      <td>286.0</td>\n",
       "      <td>0.0</td>\n",
       "      <td>2.0</td>\n",
       "      <td>108.0</td>\n",
       "      <td>1.0</td>\n",
       "      <td>1.5</td>\n",
       "      <td>2.0</td>\n",
       "      <td>3.0</td>\n",
       "      <td>3.0</td>\n",
       "      <td>2</td>\n",
       "      <td>1</td>\n",
       "    </tr>\n",
       "    <tr>\n",
       "      <th>2</th>\n",
       "      <td>67.0</td>\n",
       "      <td>1.0</td>\n",
       "      <td>4.0</td>\n",
       "      <td>120.0</td>\n",
       "      <td>229.0</td>\n",
       "      <td>0.0</td>\n",
       "      <td>2.0</td>\n",
       "      <td>129.0</td>\n",
       "      <td>1.0</td>\n",
       "      <td>2.6</td>\n",
       "      <td>2.0</td>\n",
       "      <td>2.0</td>\n",
       "      <td>7.0</td>\n",
       "      <td>1</td>\n",
       "      <td>1</td>\n",
       "    </tr>\n",
       "    <tr>\n",
       "      <th>3</th>\n",
       "      <td>37.0</td>\n",
       "      <td>1.0</td>\n",
       "      <td>3.0</td>\n",
       "      <td>130.0</td>\n",
       "      <td>250.0</td>\n",
       "      <td>0.0</td>\n",
       "      <td>0.0</td>\n",
       "      <td>187.0</td>\n",
       "      <td>0.0</td>\n",
       "      <td>3.5</td>\n",
       "      <td>3.0</td>\n",
       "      <td>0.0</td>\n",
       "      <td>3.0</td>\n",
       "      <td>0</td>\n",
       "      <td>0</td>\n",
       "    </tr>\n",
       "    <tr>\n",
       "      <th>4</th>\n",
       "      <td>41.0</td>\n",
       "      <td>0.0</td>\n",
       "      <td>2.0</td>\n",
       "      <td>130.0</td>\n",
       "      <td>204.0</td>\n",
       "      <td>0.0</td>\n",
       "      <td>2.0</td>\n",
       "      <td>172.0</td>\n",
       "      <td>0.0</td>\n",
       "      <td>1.4</td>\n",
       "      <td>1.0</td>\n",
       "      <td>0.0</td>\n",
       "      <td>3.0</td>\n",
       "      <td>0</td>\n",
       "      <td>0</td>\n",
       "    </tr>\n",
       "  </tbody>\n",
       "</table>\n",
       "</div>"
      ],
      "text/plain": [
       "    age  sex   cp  trestbps   chol  fbs  restecg  thalach  exang  oldpeak   \n",
       "0  63.0  1.0  1.0     145.0  233.0  1.0      2.0    150.0    0.0      2.3  \\\n",
       "1  67.0  1.0  4.0     160.0  286.0  0.0      2.0    108.0    1.0      1.5   \n",
       "2  67.0  1.0  4.0     120.0  229.0  0.0      2.0    129.0    1.0      2.6   \n",
       "3  37.0  1.0  3.0     130.0  250.0  0.0      0.0    187.0    0.0      3.5   \n",
       "4  41.0  0.0  2.0     130.0  204.0  0.0      2.0    172.0    0.0      1.4   \n",
       "\n",
       "   slope   ca thal  num  flag_doente  \n",
       "0    3.0  0.0  6.0    0            0  \n",
       "1    2.0  3.0  3.0    2            1  \n",
       "2    2.0  2.0  7.0    1            1  \n",
       "3    3.0  0.0  3.0    0            0  \n",
       "4    1.0  0.0  3.0    0            0  "
      ]
     },
     "execution_count": 23,
     "metadata": {},
     "output_type": "execute_result"
    }
   ],
   "source": [
    "url = 'https://archive.ics.uci.edu/ml/machine-learning-databases/heart-disease/processed.cleveland.data'\n",
    "\n",
    "df = pd.read_csv(url, \n",
    "                 names=['age', 'sex', 'cp', 'trestbps', 'chol', 'fbs', 'restecg',\n",
    "                        'thalach', 'exang', 'oldpeak', 'slope', 'ca', 'thal', 'num'])\n",
    "df['flag_doente'] = (df['num']!=0).astype('int64')\n",
    "df.head()"
   ]
  },
  {
   "cell_type": "markdown",
   "metadata": {},
   "source": [
    "A descrição das variáveis está recortada abaixo:\n",
    "- age: idade do paciente em anos\n",
    "- sex: sexo (1 = male; 0 = female)  \n",
    "- cp: tipo de dor no peito\n",
    "  - 1: angina típica\n",
    "  - 2: angina atípica\n",
    "  - 3: dor não-angina\n",
    "  - 4: assintomático\n",
    "- trestbps: pressão sanguínea em repouso (em mm Hg na admissão ao hospital\n",
    "- chol: colesterol sérico em mg/dl\n",
    "- fbs: (açúcar no sangue em jejum > 120 mg/dl) (1 = True; 0 = False)\n",
    "- restecg: resultados eletrocardiográficos em repouso\n",
    "  - 0: normal\n",
    "  - 1: tendo anormalidade da onda ST-T (Inversões de onda T e / ou ST com elevação ou depressão de > 0.05 mV)\n",
    "  - 2: mostrando hipertrofia ventricular esquerda provável ou definitiva pelos critérios de Estes\n",
    "- thalach: frequência cardíaca máxima alcançada\n",
    "- exang: angina induzida por exercício(1 = sim; 0 = não)\n",
    "- oldpeak = Depressão de ST induzida por exercício em relação ao repouso\n",
    "- slope: Depressão de ST induzida por exercício em relação ao repouso\n",
    "  - 1: inclinação ascendente\n",
    "  - 2: estável\n",
    "  - 3: inclinação descendente\n",
    "- ca: número de vasos principais (0-3) coloridos por fluorosopia\n",
    "- thal: 3 = normal; 6 = defeito corrigido; 7 = defeito reversível\n",
    "- num: diagnóstico de doença cardíaga (status de doença angiográfica)"
   ]
  },
  {
   "cell_type": "code",
   "execution_count": 24,
   "metadata": {},
   "outputs": [
    {
     "name": "stdout",
     "output_type": "stream",
     "text": [
      "<class 'pandas.core.frame.DataFrame'>\n",
      "RangeIndex: 303 entries, 0 to 302\n",
      "Data columns (total 15 columns):\n",
      " #   Column       Non-Null Count  Dtype  \n",
      "---  ------       --------------  -----  \n",
      " 0   age          303 non-null    float64\n",
      " 1   sex          303 non-null    float64\n",
      " 2   cp           303 non-null    float64\n",
      " 3   trestbps     303 non-null    float64\n",
      " 4   chol         303 non-null    float64\n",
      " 5   fbs          303 non-null    float64\n",
      " 6   restecg      303 non-null    float64\n",
      " 7   thalach      303 non-null    float64\n",
      " 8   exang        303 non-null    float64\n",
      " 9   oldpeak      303 non-null    float64\n",
      " 10  slope        303 non-null    float64\n",
      " 11  ca           303 non-null    object \n",
      " 12  thal         303 non-null    object \n",
      " 13  num          303 non-null    int64  \n",
      " 14  flag_doente  303 non-null    int64  \n",
      "dtypes: float64(11), int64(2), object(2)\n",
      "memory usage: 35.6+ KB\n"
     ]
    }
   ],
   "source": [
    "df.info()"
   ]
  },
  {
   "cell_type": "markdown",
   "metadata": {},
   "source": [
    "1. Considere o script que monta a análise bivariada que você fez na tarefa anterior. Transforme esse script em uma função, que deve:\n",
    "- Ter como parâmetros de entrada:\n",
    "    - Um *dataframe* contendo os dados a serem avaliados\n",
    "    - Um *string* contendo o nome da variável resposta\n",
    "    - Um *string* contendo o nome da variável explicativa\n",
    "- E deve retornar um *dataframe* com os dados da bivariada. \n",
    "**Monte** a mesma bivariada pelo menos três variáveis qualitativas do *data-frame*. Qual delas parece discriminar mais o risco?"
   ]
  },
  {
   "cell_type": "code",
   "execution_count": 25,
   "metadata": {},
   "outputs": [],
   "source": [
    "def bivariate_analysis(df, response_var, explanatory_var):\n",
    "    # Contagem dos valores únicos da variável explicativa e sua relação com a variável resposta\n",
    "    cross_tab = pd.crosstab(df[explanatory_var], df[response_var])\n",
    "    \n",
    "    # Cálculo das porcentagens em relação à variável resposta\n",
    "    cross_tab['% No'] = cross_tab[0] / (cross_tab[0] + cross_tab[1])\n",
    "    cross_tab['% Yes'] = cross_tab[1] / (cross_tab[0] + cross_tab[1])\n",
    "    \n",
    "    return cross_tab\n"
   ]
  },
  {
   "cell_type": "code",
   "execution_count": 26,
   "metadata": {},
   "outputs": [
    {
     "name": "stdout",
     "output_type": "stream",
     "text": [
      "Análise Bivariada - Variável Explicativa: sex\n",
      "flag_doente   0    1      % No     % Yes\n",
      "sex                                     \n",
      "0.0          72   25  0.742268  0.257732\n",
      "1.0          92  114  0.446602  0.553398\n",
      "\n",
      "\n",
      "Análise Bivariada - Variável Explicativa: cp\n",
      "flag_doente   0    1      % No     % Yes\n",
      "cp                                      \n",
      "1.0          16    7  0.695652  0.304348\n",
      "2.0          41    9  0.820000  0.180000\n",
      "3.0          68   18  0.790698  0.209302\n",
      "4.0          39  105  0.270833  0.729167\n",
      "\n",
      "\n",
      "Análise Bivariada - Variável Explicativa: fbs\n",
      "flag_doente    0    1      % No     % Yes\n",
      "fbs                                      \n",
      "0.0          141  117  0.546512  0.453488\n",
      "1.0           23   22  0.511111  0.488889\n",
      "\n",
      "\n"
     ]
    }
   ],
   "source": [
    "# Variável resposta\n",
    "response_var = 'flag_doente'\n",
    "\n",
    "# Variáveis explicativas\n",
    "explanatory_vars = ['sex', 'cp', 'fbs']\n",
    "\n",
    "# Realizar análise bivariada para cada variável explicativa\n",
    "for var in explanatory_vars:\n",
    "    result = bivariate_analysis(df, response_var, var)\n",
    "    print(f\"Análise Bivariada - Variável Explicativa: {var}\")\n",
    "    print(result)\n",
    "    print(\"\\n\")\n"
   ]
  },
  {
   "cell_type": "markdown",
   "metadata": {},
   "source": [
    "     Ao executar o código acima, será impresso o resultado da análise bivariada para cada variável explicativa, mostrando a contagem dos valores únicos da variável explicativa em relação à variável resposta, bem como as porcentagens de 'Não' e 'Sim' em relação à variável resposta.\n",
    "\n",
    "    Para determinar qual variável qualitativa discrimina mais o risco, você pode observar as porcentagens de 'Sim' em relação à variável resposta. Quanto maior a porcentagem de 'Sim', maior é a associação entre a variável explicativa e o risco (representado pela variável resposta). Portanto, a variável com a maior porcentagem de 'Sim' é aquela que parece discriminar mais o risco."
   ]
  },
  {
   "cell_type": "markdown",
   "metadata": {},
   "source": [
    "2. Monte uma função semelhante para categorizar variáveis quantitativas contínuas (com muitas categorias) como ```age```.  \n",
    "    Além dos mesmos parâmetros da função anterior, defina mais um parâmetro como número de categorias que você deseja quebrar. Defina um valor '*default*' de 5 grupos para este parâmetro.  "
   ]
  },
  {
   "cell_type": "code",
   "execution_count": 27,
   "metadata": {},
   "outputs": [],
   "source": [
    "def bivariate_analysis_continuous(df, response_var, explanatory_var, num_categories=5):\n",
    "    # Criação de uma cópia do dataframe original\n",
    "    df_copy = df.copy()\n",
    "    \n",
    "    # Categorização da variável explicativa em grupos\n",
    "    df_copy['Category'] = pd.qcut(df_copy[explanatory_var], num_categories)\n",
    "    \n",
    "    # Contagem dos valores únicos da variável Category e sua relação com a variável resposta\n",
    "    cross_tab = pd.crosstab(df_copy['Category'], df_copy[response_var])\n",
    "    \n",
    "    # Cálculo das porcentagens em relação à variável resposta\n",
    "    cross_tab['% No'] = cross_tab[0] / (cross_tab[0] + cross_tab[1])\n",
    "    cross_tab['% Yes'] = cross_tab[1] / (cross_tab[0] + cross_tab[1])\n",
    "    \n",
    "    return cross_tab\n"
   ]
  },
  {
   "cell_type": "code",
   "execution_count": 28,
   "metadata": {},
   "outputs": [
    {
     "name": "stdout",
     "output_type": "stream",
     "text": [
      "Análise Bivariada - Variável Explicativa: age\n",
      "flag_doente      0   1      % No     % Yes\n",
      "Category                                  \n",
      "(28.999, 45.0]  47  16  0.746032  0.253968\n",
      "(45.0, 53.0]    42  22  0.656250  0.343750\n",
      "(53.0, 58.0]    32  39  0.450704  0.549296\n",
      "(58.0, 62.0]    13  32  0.288889  0.711111\n",
      "(62.0, 77.0]    30  30  0.500000  0.500000\n"
     ]
    }
   ],
   "source": [
    "# Variável resposta\n",
    "response_var = 'flag_doente'\n",
    "\n",
    "# Variável explicativa\n",
    "explanatory_var = 'age'\n",
    "\n",
    "# Número de categorias (opcional, com valor default de 5)\n",
    "num_categories = 5\n",
    "\n",
    "# Realizar análise bivariada para a variável explicativa contínua\n",
    "result = bivariate_analysis_continuous(df, response_var, explanatory_var, num_categories)\n",
    "print(f\"Análise Bivariada - Variável Explicativa: {explanatory_var}\")\n",
    "print(result)\n"
   ]
  },
  {
   "cell_type": "markdown",
   "metadata": {},
   "source": [
    "    Ao executar o código acima, será impresso o resultado da análise bivariada para a variável explicativa contínua 'age', categorizada em 5 grupos. A tabela resultante mostrará a contagem dos valores únicos da variável Category em relação à variável resposta, assim como as porcentagens de 'Não' e 'Sim' em relação à variável resposta.\n",
    "\n",
    "    Você pode ajustar o parâmetro 'num_categories' para o número desejado de grupos para categorizar a variável explicativa contínua. Quanto maior o número de grupos, mais detalhada será a análise, mas também pode levar a grupos menores com menos observações, o que pode afetar a precisão das estimativas nas porcentagens. Portanto, é importante considerar o equilíbrio entre detalhamento e tamanho dos grupos ao escolher o valor para 'num_categories'."
   ]
  },
  {
   "cell_type": "markdown",
   "metadata": {},
   "source": [
    "3. Construa um modelo de regressão logística com as variáveis qualitativas: ```sex + cp +  trestbps``` e com a variável quantitativa ```age```.\n",
    "\n",
    "**Interprete os parâmetros.**"
   ]
  },
  {
   "cell_type": "code",
   "execution_count": 29,
   "metadata": {},
   "outputs": [
    {
     "name": "stdout",
     "output_type": "stream",
     "text": [
      "Optimization terminated successfully.\n",
      "         Current function value: 0.510076\n",
      "         Iterations 6\n",
      "                           Logit Regression Results                           \n",
      "==============================================================================\n",
      "Dep. Variable:            flag_doente   No. Observations:                  303\n",
      "Model:                          Logit   Df Residuals:                      298\n",
      "Method:                           MLE   Df Model:                            4\n",
      "Date:                Thu, 25 May 2023   Pseudo R-squ.:                  0.2605\n",
      "Time:                        10:38:46   Log-Likelihood:                -154.55\n",
      "converged:                       True   LL-Null:                       -208.99\n",
      "Covariance Type:            nonrobust   LLR p-value:                 1.264e-22\n",
      "==============================================================================\n",
      "                 coef    std err          z      P>|z|      [0.025      0.975]\n",
      "------------------------------------------------------------------------------\n",
      "const        -11.1167      1.608     -6.915      0.000     -14.267      -7.966\n",
      "sex            1.8021      0.331      5.444      0.000       1.153       2.451\n",
      "cp             1.1403      0.169      6.739      0.000       0.809       1.472\n",
      "trestbps       0.0214      0.008      2.600      0.009       0.005       0.037\n",
      "age            0.0582      0.017      3.348      0.001       0.024       0.092\n",
      "==============================================================================\n"
     ]
    }
   ],
   "source": [
    "import statsmodels.api as sm\n",
    "\n",
    "# Variável resposta\n",
    "response_var = 'flag_doente'\n",
    "\n",
    "# Variáveis explicativas\n",
    "explanatory_vars = ['sex', 'cp', 'trestbps', 'age']\n",
    "\n",
    "# Adicionando a constante ao dataframe\n",
    "df_with_constant = sm.add_constant(df[explanatory_vars])\n",
    "\n",
    "# Criando o modelo de regressão logística\n",
    "model = sm.Logit(df[response_var], df_with_constant)\n",
    "\n",
    "# Ajustando o modelo aos dados\n",
    "results = model.fit()\n",
    "\n",
    "# Exibindo os resultados\n",
    "print(results.summary())\n"
   ]
  },
  {
   "cell_type": "markdown",
   "metadata": {},
   "source": [
    "# Os resultados do modelo de regressão logística são apresentados na tabela \"Logit Regression Results\". Vamos interpretar cada um dos coeficientes estimados:\n",
    "\n",
    "Constante (const): O coeficiente da constante é -11.1167. Isso significa que, quando todas as outras variáveis explicativas são zero, o logito é -11.1167. Isso pode ser interpretado como o log-odds de ter a doença cardíaca quando todas as outras variáveis são zero.\n",
    "\n",
    "Sex: O coeficiente para a variável \"sex\" é 1.8021. Isso indica que, mantendo todas as outras variáveis constantes, ser do sexo masculino está associado a um aumento de aproximadamente 1.8021 no logito, ou seja, um aumento na chance de ter a doença cardíaca.\n",
    "\n",
    "Cp: O coeficiente para a variável \"cp\" é 1.1403. Isso significa que, mantendo todas as outras variáveis constantes, cada aumento de uma unidade na variável \"cp\" está associado a um aumento de cerca de 1.1403 no logito, ou seja, um aumento na chance de ter a doença cardíaca.\n",
    "\n",
    "Trestbps: O coeficiente para a variável \"trestbps\" é 0.0214. Isso indica que, mantendo todas as outras variáveis constantes, cada aumento de uma unidade na variável \"trestbps\" está associado a um aumento de cerca de 0.0214 no logito, ou seja, um aumento na chance de ter a doença cardíaca.\n",
    "\n",
    "Age: O coeficiente para a variável \"age\" é 0.0582. Isso significa que, mantendo todas as outras variáveis constantes, cada aumento de uma unidade na variável \"age\" está associado a um aumento de cerca de 0.0582 no logito, ou seja, um aumento na chance de ter a doença cardíaca.\n",
    "\n",
    "Além dos coeficientes, o resumo também fornece outras informações relevantes:\n",
    "\n",
    "Pseudo R-squared: O valor do Pseudo R-squared é 0.2605, indicando que as variáveis explicativas incluídas no modelo explicam aproximadamente 26.05% da variabilidade na variável resposta.\n",
    "\n",
    "LLR p-value: O valor do p-valor associado ao teste de razão de verossimilhança (LLR) é 1.264e-22, que é extremamente baixo. Isso sugere que o modelo como um todo é estatisticamente significativo na previsão da variável resposta.\n",
    "\n",
    "Intervalo de Confiança: Os intervalos de confiança de 95% para os coeficientes são fornecidos na coluna [0.025, 0.975]. Eles indicam a faixa na qual os valores reais dos coeficientes têm uma probabilidade de 95% de cair.\n",
    "\n",
    "Em resumo, os resultados indicam que o sexo, o tipo de dor no peito (cp), a pressão arterial em repouso (trestbps) e a idade (age) têm um impacto significativo na chance de ter a doença cardíaca. No entanto, lembre-se de que a interpretação dos coeficientes depende do contexto específico do problema e das características das variáveis envolvidas."
   ]
  },
  {
   "cell_type": "markdown",
   "metadata": {},
   "source": [
    "4. Avalie o seu modelo quanto a **calibragem**:\n",
    "- Calcule a probabilidade de evento predita segundo o seu modelo\n",
    "- Categorize essa probabilidade em G=5 grupos\n",
    "- Calcule a probabilidade de evento predita média por grupo\n",
    "- Calcule a taxa de eventos (média da variável indicadora de eventos) por grupo\n",
    "- Compare graficamente o valor eperado versus observado para a taxa de maus por grupo"
   ]
  },
  {
   "cell_type": "code",
   "execution_count": 37,
   "metadata": {},
   "outputs": [],
   "source": [
    "# Calculando a probabilidade de evento predita segundo o modelo:\n",
    "df['probabilidade_predita'] = results.predict(df_with_constant)\n",
    "\n",
    "# Categorizando essa probabilidade em G=5 grupos:\n",
    "df['grupo'] = pd.qcut(df['probabilidade_predita'], q=5)\n",
    "\n",
    "# Calculando a probabilidade de evento predita média por grupo:\n",
    "probabilidade_media_grupo = df.groupby('grupo')['probabilidade_predita'].mean()\n",
    "\n",
    "# Calculando a taxa de eventos (média da variável indicadora de eventos) por grupo:\n",
    "taxa_eventos_grupo = df.groupby('grupo')['flag_doente'].mean()\n",
    "\n"
   ]
  },
  {
   "cell_type": "code",
   "execution_count": 40,
   "metadata": {},
   "outputs": [
    {
     "data": {
      "image/png": "[encoded data removed]",
      "text/plain": [
       "<Figure size 640x480 with 1 Axes>"
      ]
     },
     "metadata": {},
     "output_type": "display_data"
    }
   ],
   "source": [
    "#Comparar graficamente o valor esperado versus observado para a taxa de eventos por grupo. \n",
    "#Isso pode ser feito traçando um gráfico de barras com as médias observadas e as médias previstas para cada grupo.\n",
    "\n",
    "rotulos_grupo = [str(intervalo) for intervalo in probabilidade_media_grupo.index]\n",
    "\n",
    "fig, ax = plt.subplots()\n",
    "ax.bar(rotulos_grupo, taxa_eventos_grupo, label='Observado')\n",
    "ax.plot(rotulos_grupo, probabilidade_media_grupo, color='red', marker='o', label='Previsto')\n",
    "ax.set_xlabel('Grupo')\n",
    "ax.set_ylabel('Taxa de Eventos')\n",
    "ax.legend()\n",
    "plt.show()"
   ]
  },
  {
   "cell_type": "markdown",
   "metadata": {},
   "source": [
    "    A função predict é usada para calcular a probabilidade prevista de pertencer à classe positiva (evento).\n",
    "    \n",
    "    A função qcut do pandas é usada para dividir as probabilidades previstas em quantis (grupos) de igual tamanho.\n",
    "    \n",
    "    Usamos o método groupby para agrupar o dataframe por 'grupo' e calculamos a média da probabilidade prevista para cada grupo.\n",
    "    \n",
    "    Similarmente, usamos o método groupby para calcular a média da variável indicadora de eventos (flag_doente) para cada grupo.\n",
    "    \n",
    "    No gráfico, as barras representam a taxa média de eventos observados em cada grupo, enquanto os pontos vermelhos representam a taxa média de eventos previstos pelo modelo.\n",
    "    Esses passos permitem avaliar a calibração do modelo, comparando as taxas de eventos observadas e previstas em diferentes grupos de probabilidade prevista."
   ]
  },
  {
   "cell_type": "markdown",
   "metadata": {},
   "source": [
    "5. Avalie o seu modelo quanto a discriminação calculando acurácia, GINI e KS."
   ]
  },
  {
   "cell_type": "code",
   "execution_count": 41,
   "metadata": {},
   "outputs": [
    {
     "name": "stdout",
     "output_type": "stream",
     "text": [
      "Acurácia:  0.7788778877887789\n",
      "GINI:  0.6622214423583084\n",
      "KS:  0.5840498333040884\n",
      "Valor-p do KS:  2.434674589816568e-24\n"
     ]
    }
   ],
   "source": [
    "# Importar as bibliotecas\n",
    "from sklearn.metrics import accuracy_score, roc_auc_score\n",
    "from scipy.stats import ks_2samp\n",
    "\n",
    "# Variáveis de resposta observada e prevista\n",
    "y_true = df[response_var]\n",
    "y_pred = results.predict(df_with_constant)\n",
    "\n",
    "# Calcular a acurácia\n",
    "acuracia = accuracy_score(y_true, np.round(y_pred))\n",
    "\n",
    "# Calcular o índice GINI\n",
    "gini = 2 * roc_auc_score(y_true, y_pred) - 1\n",
    "\n",
    "# Calcular o estatístico KS\n",
    "ks_statistic, ks_pvalue = ks_2samp(y_pred[y_true == 1], y_pred[y_true == 0])\n",
    "\n",
    "# Exibir os resultados\n",
    "print(\"Acurácia: \", acuracia)\n",
    "print(\"GINI: \", gini)\n",
    "print(\"KS: \", ks_statistic)\n",
    "print(\"Valor-p do KS: \", ks_pvalue)\n"
   ]
  },
  {
   "cell_type": "markdown",
   "metadata": {},
   "source": [
    "    Nesse código, importamos as bibliotecas necessárias (accuracy_score do scikit-learn para calcular a acurácia, roc_auc_score também do scikit-learn para calcular o índice GINI e ks_2samp do SciPy para calcular o estatístico KS).\n",
    "\n",
    "    Em seguida, definimos as variáveis de resposta observada (y_true) e a probabilidade prevista (y_pred) com base nos resultados do modelo.\n",
    "\n",
    "    Por fim, calculamos a acurácia, o índice GINI e o estatístico KS e exibimos os resultados."
   ]
  },
  {
   "cell_type": "markdown",
   "metadata": {},
   "source": [
    "6. tente melhorar o modelo obtido, por exemplo inserindo ou removendo variáveis.  \n",
    "    Avalie as características do seu modelo (calibragem e acurácia)."
   ]
  },
  {
   "cell_type": "code",
   "execution_count": 44,
   "metadata": {},
   "outputs": [
    {
     "name": "stdout",
     "output_type": "stream",
     "text": [
      "Optimization terminated successfully.\n",
      "         Current function value: 0.521721\n",
      "         Iterations 6\n",
      "                           Logit Regression Results                           \n",
      "==============================================================================\n",
      "Dep. Variable:            flag_doente   No. Observations:                  303\n",
      "Model:                          Logit   Df Residuals:                      299\n",
      "Method:                           MLE   Df Model:                            3\n",
      "Date:                Thu, 25 May 2023   Pseudo R-squ.:                  0.2436\n",
      "Time:                        10:57:41   Log-Likelihood:                -158.08\n",
      "converged:                       True   LL-Null:                       -208.99\n",
      "Covariance Type:            nonrobust   LLR p-value:                 6.313e-22\n",
      "==============================================================================\n",
      "                 coef    std err          z      P>|z|      [0.025      0.975]\n",
      "------------------------------------------------------------------------------\n",
      "const         -8.6272      1.225     -7.044      0.000     -11.028      -6.227\n",
      "sex            1.7062      0.320      5.332      0.000       1.079       2.333\n",
      "cp             1.0966      0.167      6.575      0.000       0.770       1.423\n",
      "age            0.0682      0.017      4.039      0.000       0.035       0.101\n",
      "==============================================================================\n"
     ]
    }
   ],
   "source": [
    "#Neste modelo, vamos remover a variável 'trestbps' do conjunto de variáveis explicativas.\n",
    "\n",
    "# Variável resposta\n",
    "response_var = 'flag_doente'\n",
    "\n",
    "# Variáveis explicativas (removendo 'trestbps')\n",
    "explanatory_vars = ['sex', 'cp', 'age']\n",
    "\n",
    "# Adicionando a constante ao dataframe\n",
    "df_with_constant = sm.add_constant(df[explanatory_vars])\n",
    "\n",
    "# Criando o modelo de regressão logística\n",
    "model_remove = sm.Logit(df[response_var], df_with_constant)\n",
    "\n",
    "# Ajustando o modelo aos dados\n",
    "results_remove = model_remove.fit()\n",
    "\n",
    "# Exibindo os resultados\n",
    "print(results_remove.summary())\n"
   ]
  },
  {
   "cell_type": "code",
   "execution_count": 45,
   "metadata": {},
   "outputs": [
    {
     "name": "stdout",
     "output_type": "stream",
     "text": [
      "Optimization terminated successfully.\n",
      "         Current function value: 0.505812\n",
      "         Iterations 6\n",
      "                           Logit Regression Results                           \n",
      "==============================================================================\n",
      "Dep. Variable:            flag_doente   No. Observations:                  303\n",
      "Model:                          Logit   Df Residuals:                      297\n",
      "Method:                           MLE   Df Model:                            5\n",
      "Date:                Thu, 25 May 2023   Pseudo R-squ.:                  0.2667\n",
      "Time:                        10:57:44   Log-Likelihood:                -153.26\n",
      "converged:                       True   LL-Null:                       -208.99\n",
      "Covariance Type:            nonrobust   LLR p-value:                 2.013e-22\n",
      "==============================================================================\n",
      "                 coef    std err          z      P>|z|      [0.025      0.975]\n",
      "------------------------------------------------------------------------------\n",
      "const        -12.0947      1.754     -6.896      0.000     -15.532      -8.657\n",
      "sex            1.9355      0.348      5.570      0.000       1.254       2.617\n",
      "cp             1.1417      0.170      6.708      0.000       0.808       1.475\n",
      "trestbps       0.0208      0.008      2.520      0.012       0.005       0.037\n",
      "age            0.0556      0.018      3.144      0.002       0.021       0.090\n",
      "chol           0.0044      0.003      1.608      0.108      -0.001       0.010\n",
      "==============================================================================\n"
     ]
    }
   ],
   "source": [
    "#Neste modelo, vamos adicionar a variável 'chol' ao conjunto de variáveis explicativas.\n",
    "\n",
    "# Variável resposta\n",
    "response_var = 'flag_doente'\n",
    "\n",
    "# Variáveis explicativas (adicionando 'chol')\n",
    "explanatory_vars = ['sex', 'cp', 'trestbps', 'age', 'chol']\n",
    "\n",
    "# Adicionando a constante ao dataframe\n",
    "df_with_constant = sm.add_constant(df[explanatory_vars])\n",
    "\n",
    "# Criando o modelo de regressão logística\n",
    "model_add = sm.Logit(df[response_var], df_with_constant)\n",
    "\n",
    "# Ajustando o modelo aos dados\n",
    "results_add = model_add.fit()\n",
    "\n",
    "# Exibindo os resultados\n",
    "print(results_add.summary())\n"
   ]
  },
  {
   "cell_type": "markdown",
   "metadata": {},
   "source": [
    "    Ao analisar os resultados dos dois modelos, podemos avaliar sua performance com base em métricas como a calibração (pseudo R-squared) e os valores p das variáveis explicativas.\n",
    "\n",
    "    No modelo que remove a variável 'trestbps', temos um pseudo R-squared de 0.2436 e todas as variáveis explicativas ('sex', 'cp', 'age') apresentam valores p significativos, indicando que são estatisticamente relevantes para explicar a variável resposta. No entanto, o valor p da variável 'age' é o maior entre as variáveis, o que sugere uma menor influência em comparação com as outras variáveis.\n",
    "\n",
    "    Já no modelo que adiciona a variável 'chol', temos um pseudo R-squared de 0.2667 e todas as variáveis explicativas ('sex', 'cp', 'trestbps', 'age', 'chol') possuem valores p significativos. No entanto, a variável 'chol' apresenta um valor p um pouco maior (0.108), indicando uma possível menor relevância estatística em relação às outras variáveis.\n",
    "\n",
    "    Com base nessas avaliações, podemos considerar que o modelo que remove a variável 'trestbps' pode ser mais adequado, uma vez que possui um pseudo R-squared ligeiramente menor, mas todas as variáveis explicativas são estatisticamente significativas.\n",
    "\n",
    "    No entanto, é importante ressaltar que a escolha do melhor modelo depende não apenas dessas métricas, mas também do contexto e dos objetivos específicos do estudo. Portanto, é recomendado considerar outras análises e critérios antes de tomar uma decisão final sobre qual modelo é o mais apropriado."
   ]
  },
  {
   "cell_type": "code",
   "execution_count": null,
   "metadata": {},
   "outputs": [],
   "source": []
  }
 ],
 "metadata": {
  "kernelspec": {
   "display_name": "Python 3 (ipykernel)",
   "language": "python",
   "name": "python3"
  },
  "language_info": {
   "codemirror_mode": {
    "name": "ipython",
    "version": 3
   },
   "file_extension": ".py",
   "mimetype": "text/x-python",
   "name": "python",
   "nbconvert_exporter": "python",
   "pygments_lexer": "ipython3",
   "version": "3.9.13"
  }
 },
 "nbformat": 4,
 "nbformat_minor": 4
}
